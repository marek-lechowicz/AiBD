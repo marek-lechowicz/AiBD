{
  "cells": [
    {
      "cell_type": "code",
      "execution_count": 2,
      "metadata": {
        "id": "FOn_FyATPENG"
      },
      "outputs": [],
      "source": [
        "import psycopg2 as pg\n",
        "import pandas as pd\n",
        "\n",
        "connection = pg.connect(host='pgsql-196447.vipserv.org', port=5432, dbname='wbauer_adb', user='wbauer_adb', password='adb2020')\n"
      ]
    },
    {
      "cell_type": "code",
      "execution_count": 3,
      "metadata": {
        "colab": {
          "base_uri": "https://localhost:8080/"
        },
        "id": "agOgPCxWQM7i",
        "outputId": "16c146e1-9654-41d2-ea0f-342ca93da55a"
      },
      "outputs": [
        {
          "data": {
            "text/plain": [
              "Index(['film_id', 'title', 'description', 'release_year', 'language_id',\n",
              "       'rental_duration', 'rental_rate', 'length', 'replacement_cost',\n",
              "       'rating', 'last_update', 'special_features', 'fulltext'],\n",
              "      dtype='object')"
            ]
          },
          "execution_count": 3,
          "metadata": {},
          "output_type": "execute_result"
        }
      ],
      "source": [
        "df = pd.read_sql('select * from film',con=connection)\n",
        "df.columns"
      ]
    },
    {
      "cell_type": "markdown",
      "metadata": {
        "id": "2dY7be-aR55I"
      },
      "source": [
        "## 1. Ile Kategorii filmów mamy w wypożyczalni?"
      ]
    },
    {
      "cell_type": "code",
      "execution_count": 4,
      "metadata": {
        "colab": {
          "base_uri": "https://localhost:8080/"
        },
        "id": "T1E3Ply7R5Xp",
        "outputId": "cf2f6345-b45d-4a76-8a3a-89f3e7147a6b"
      },
      "outputs": [
        {
          "name": "stdout",
          "output_type": "stream",
          "text": [
            "   count\n",
            "0     16\n"
          ]
        }
      ],
      "source": [
        "number_of_categories = pd.read_sql('SELECT COUNT(*) FROM category', con=connection)\n",
        "print(number_of_categories)"
      ]
    },
    {
      "cell_type": "markdown",
      "metadata": {
        "id": "VXlUZspiTcqm"
      },
      "source": [
        "*Odp: Mamy 16 kategorii*\n",
        "\n",
        "\n",
        "\n"
      ]
    },
    {
      "cell_type": "markdown",
      "metadata": {
        "id": "rdUhOOzWTsGX"
      },
      "source": [
        "## 2. Wyświetl listę kategorii w kolejności alfabetycznej."
      ]
    },
    {
      "cell_type": "code",
      "execution_count": 5,
      "metadata": {
        "colab": {
          "base_uri": "https://localhost:8080/",
          "height": 551
        },
        "id": "JdQErj8rTbfe",
        "outputId": "df27de93-d9b5-490f-e32d-a122abc5862b"
      },
      "outputs": [
        {
          "data": {
            "text/html": [
              "<div>\n",
              "<style scoped>\n",
              "    .dataframe tbody tr th:only-of-type {\n",
              "        vertical-align: middle;\n",
              "    }\n",
              "\n",
              "    .dataframe tbody tr th {\n",
              "        vertical-align: top;\n",
              "    }\n",
              "\n",
              "    .dataframe thead th {\n",
              "        text-align: right;\n",
              "    }\n",
              "</style>\n",
              "<table border=\"1\" class=\"dataframe\">\n",
              "  <thead>\n",
              "    <tr style=\"text-align: right;\">\n",
              "      <th></th>\n",
              "      <th>name</th>\n",
              "    </tr>\n",
              "  </thead>\n",
              "  <tbody>\n",
              "    <tr>\n",
              "      <th>0</th>\n",
              "      <td>Action</td>\n",
              "    </tr>\n",
              "    <tr>\n",
              "      <th>1</th>\n",
              "      <td>Animation</td>\n",
              "    </tr>\n",
              "    <tr>\n",
              "      <th>2</th>\n",
              "      <td>Children</td>\n",
              "    </tr>\n",
              "    <tr>\n",
              "      <th>3</th>\n",
              "      <td>Classics</td>\n",
              "    </tr>\n",
              "    <tr>\n",
              "      <th>4</th>\n",
              "      <td>Comedy</td>\n",
              "    </tr>\n",
              "    <tr>\n",
              "      <th>5</th>\n",
              "      <td>Documentary</td>\n",
              "    </tr>\n",
              "    <tr>\n",
              "      <th>6</th>\n",
              "      <td>Drama</td>\n",
              "    </tr>\n",
              "    <tr>\n",
              "      <th>7</th>\n",
              "      <td>Family</td>\n",
              "    </tr>\n",
              "    <tr>\n",
              "      <th>8</th>\n",
              "      <td>Foreign</td>\n",
              "    </tr>\n",
              "    <tr>\n",
              "      <th>9</th>\n",
              "      <td>Games</td>\n",
              "    </tr>\n",
              "    <tr>\n",
              "      <th>10</th>\n",
              "      <td>Horror</td>\n",
              "    </tr>\n",
              "    <tr>\n",
              "      <th>11</th>\n",
              "      <td>Music</td>\n",
              "    </tr>\n",
              "    <tr>\n",
              "      <th>12</th>\n",
              "      <td>New</td>\n",
              "    </tr>\n",
              "    <tr>\n",
              "      <th>13</th>\n",
              "      <td>Sci-Fi</td>\n",
              "    </tr>\n",
              "    <tr>\n",
              "      <th>14</th>\n",
              "      <td>Sports</td>\n",
              "    </tr>\n",
              "    <tr>\n",
              "      <th>15</th>\n",
              "      <td>Travel</td>\n",
              "    </tr>\n",
              "  </tbody>\n",
              "</table>\n",
              "</div>"
            ],
            "text/plain": [
              "           name\n",
              "0        Action\n",
              "1     Animation\n",
              "2      Children\n",
              "3      Classics\n",
              "4        Comedy\n",
              "5   Documentary\n",
              "6         Drama\n",
              "7        Family\n",
              "8       Foreign\n",
              "9         Games\n",
              "10       Horror\n",
              "11        Music\n",
              "12          New\n",
              "13       Sci-Fi\n",
              "14       Sports\n",
              "15       Travel"
            ]
          },
          "execution_count": 5,
          "metadata": {},
          "output_type": "execute_result"
        }
      ],
      "source": [
        "ans = pd.read_sql('SELECT name FROM category ORDER BY name ASC', con=connection)\n",
        "ans"
      ]
    },
    {
      "cell_type": "markdown",
      "metadata": {},
      "source": [
        "*Odp: w wypożyczalni jest 16 różnych kategorii filmów *"
      ]
    },
    {
      "cell_type": "markdown",
      "metadata": {
        "id": "sq5gcuccUIFB"
      },
      "source": [
        "## 3. Znajdź najstarszy i najmłodszy film do wypożyczenia."
      ]
    },
    {
      "cell_type": "code",
      "execution_count": 6,
      "metadata": {
        "colab": {
          "base_uri": "https://localhost:8080/",
          "height": 81
        },
        "id": "uDds8r-rUOfp",
        "outputId": "2a9e0f07-3c46-4989-beaa-af9305729e17"
      },
      "outputs": [
        {
          "data": {
            "text/html": [
              "<div>\n",
              "<style scoped>\n",
              "    .dataframe tbody tr th:only-of-type {\n",
              "        vertical-align: middle;\n",
              "    }\n",
              "\n",
              "    .dataframe tbody tr th {\n",
              "        vertical-align: top;\n",
              "    }\n",
              "\n",
              "    .dataframe thead th {\n",
              "        text-align: right;\n",
              "    }\n",
              "</style>\n",
              "<table border=\"1\" class=\"dataframe\">\n",
              "  <thead>\n",
              "    <tr style=\"text-align: right;\">\n",
              "      <th></th>\n",
              "      <th>max</th>\n",
              "      <th>min</th>\n",
              "    </tr>\n",
              "  </thead>\n",
              "  <tbody>\n",
              "    <tr>\n",
              "      <th>0</th>\n",
              "      <td>2006</td>\n",
              "      <td>2006</td>\n",
              "    </tr>\n",
              "  </tbody>\n",
              "</table>\n",
              "</div>"
            ],
            "text/plain": [
              "    max   min\n",
              "0  2006  2006"
            ]
          },
          "execution_count": 6,
          "metadata": {},
          "output_type": "execute_result"
        }
      ],
      "source": [
        "ans = pd.read_sql('SELECT MAX(release_year), MIN(release_year) FROM film', con=connection)\n",
        "ans"
      ]
    },
    {
      "cell_type": "markdown",
      "metadata": {
        "id": "q6-TWeiYVokF"
      },
      "source": [
        "*Odp: Najstarszy i najmłodszy film jest z 2006 roku, czyli de facto nie da się wyróżnić najstarszego i najmłodszego*"
      ]
    },
    {
      "cell_type": "markdown",
      "metadata": {
        "id": "lt3t3hT3V69m"
      },
      "source": [
        "## 4. Ile wypożyczeń odbyło się między 2005-07-01 a 2005-08-01?"
      ]
    },
    {
      "cell_type": "code",
      "execution_count": 8,
      "metadata": {
        "colab": {
          "base_uri": "https://localhost:8080/",
          "height": 81
        },
        "id": "ntxIrxGlVz5v",
        "outputId": "abd07a5d-6056-43b4-ea8e-1f9d63135b87"
      },
      "outputs": [
        {
          "data": {
            "text/html": [
              "<div>\n",
              "<style scoped>\n",
              "    .dataframe tbody tr th:only-of-type {\n",
              "        vertical-align: middle;\n",
              "    }\n",
              "\n",
              "    .dataframe tbody tr th {\n",
              "        vertical-align: top;\n",
              "    }\n",
              "\n",
              "    .dataframe thead th {\n",
              "        text-align: right;\n",
              "    }\n",
              "</style>\n",
              "<table border=\"1\" class=\"dataframe\">\n",
              "  <thead>\n",
              "    <tr style=\"text-align: right;\">\n",
              "      <th></th>\n",
              "      <th>count</th>\n",
              "    </tr>\n",
              "  </thead>\n",
              "  <tbody>\n",
              "    <tr>\n",
              "      <th>0</th>\n",
              "      <td>6709</td>\n",
              "    </tr>\n",
              "  </tbody>\n",
              "</table>\n",
              "</div>"
            ],
            "text/plain": [
              "   count\n",
              "0   6709"
            ]
          },
          "execution_count": 8,
          "metadata": {},
          "output_type": "execute_result"
        }
      ],
      "source": [
        "ans = pd.read_sql(\"SELECT COUNT(*) FROM rental WHERE rental_date > '2005-07-01 00:00'::timestamp AND rental_date < '2005-08-01 00:00'::timestamp\", con=connection)\n",
        "ans\n"
      ]
    },
    {
      "cell_type": "markdown",
      "metadata": {
        "id": "rMX-FGy7Yrtu"
      },
      "source": [
        "*Odp: jest 6709 takich rekordów*"
      ]
    },
    {
      "cell_type": "markdown",
      "metadata": {
        "id": "V0mWVfOqYxCW"
      },
      "source": [
        "## 5. Ile wypożyczeń odbyło się między 2010-01-01 a 2011-02-01"
      ]
    },
    {
      "cell_type": "code",
      "execution_count": 9,
      "metadata": {
        "colab": {
          "base_uri": "https://localhost:8080/",
          "height": 81
        },
        "id": "xdTMiCljY0g_",
        "outputId": "2278e58b-d9b5-4b19-9073-70d2490c3a03"
      },
      "outputs": [
        {
          "data": {
            "text/html": [
              "<div>\n",
              "<style scoped>\n",
              "    .dataframe tbody tr th:only-of-type {\n",
              "        vertical-align: middle;\n",
              "    }\n",
              "\n",
              "    .dataframe tbody tr th {\n",
              "        vertical-align: top;\n",
              "    }\n",
              "\n",
              "    .dataframe thead th {\n",
              "        text-align: right;\n",
              "    }\n",
              "</style>\n",
              "<table border=\"1\" class=\"dataframe\">\n",
              "  <thead>\n",
              "    <tr style=\"text-align: right;\">\n",
              "      <th></th>\n",
              "      <th>count</th>\n",
              "    </tr>\n",
              "  </thead>\n",
              "  <tbody>\n",
              "    <tr>\n",
              "      <th>0</th>\n",
              "      <td>0</td>\n",
              "    </tr>\n",
              "  </tbody>\n",
              "</table>\n",
              "</div>"
            ],
            "text/plain": [
              "   count\n",
              "0      0"
            ]
          },
          "execution_count": 9,
          "metadata": {},
          "output_type": "execute_result"
        }
      ],
      "source": [
        "ans = pd.read_sql(\"SELECT COUNT(*) FROM rental WHERE rental_date > '2010-01-01 00:00'::timestamp AND rental_date < '2011-02-01 00:00'::timestamp\", con=connection)\n",
        "ans"
      ]
    },
    {
      "cell_type": "markdown",
      "metadata": {
        "id": "BTS9pVjRZSLo"
      },
      "source": [
        "*Odp: Nie ma wypożyczeń które odbyły się pomiędzy 2010-01-01 a 2011-02-01*"
      ]
    },
    {
      "cell_type": "markdown",
      "metadata": {
        "id": "puKXo9BOXD3a"
      },
      "source": [
        "## 6. Znajdź największą płatność wypożyczenia."
      ]
    },
    {
      "cell_type": "code",
      "execution_count": 11,
      "metadata": {
        "colab": {
          "base_uri": "https://localhost:8080/",
          "height": 81
        },
        "id": "L4qjgs0aXIEh",
        "outputId": "1a7e5170-610c-4af3-a49e-7dbfacb22d8e"
      },
      "outputs": [
        {
          "data": {
            "text/html": [
              "<div>\n",
              "<style scoped>\n",
              "    .dataframe tbody tr th:only-of-type {\n",
              "        vertical-align: middle;\n",
              "    }\n",
              "\n",
              "    .dataframe tbody tr th {\n",
              "        vertical-align: top;\n",
              "    }\n",
              "\n",
              "    .dataframe thead th {\n",
              "        text-align: right;\n",
              "    }\n",
              "</style>\n",
              "<table border=\"1\" class=\"dataframe\">\n",
              "  <thead>\n",
              "    <tr style=\"text-align: right;\">\n",
              "      <th></th>\n",
              "      <th>max</th>\n",
              "    </tr>\n",
              "  </thead>\n",
              "  <tbody>\n",
              "    <tr>\n",
              "      <th>0</th>\n",
              "      <td>11.99</td>\n",
              "    </tr>\n",
              "  </tbody>\n",
              "</table>\n",
              "</div>"
            ],
            "text/plain": [
              "     max\n",
              "0  11.99"
            ]
          },
          "execution_count": 11,
          "metadata": {},
          "output_type": "execute_result"
        }
      ],
      "source": [
        "ans = pd.read_sql('SELECT MAX(amount) \\\n",
        "                   FROM payment \\\n",
        "                   ', con=connection)\n",
        "ans"
      ]
    },
    {
      "cell_type": "markdown",
      "metadata": {
        "id": "wVmAS1OOZmey"
      },
      "source": [
        "*Odp: Największa płatność to 11.99*"
      ]
    },
    {
      "cell_type": "markdown",
      "metadata": {
        "id": "OCO6r2uTZxsE"
      },
      "source": [
        "## 7. Znajdź wszystkich klientów z Polski, Nigerii lub Bangladeszu."
      ]
    },
    {
      "cell_type": "code",
      "execution_count": 12,
      "metadata": {
        "colab": {
          "base_uri": "https://localhost:8080/",
          "height": 143
        },
        "id": "ufqdaHEpZsO7",
        "outputId": "5d2c6e33-1654-4043-f40f-9e263986ea3e"
      },
      "outputs": [
        {
          "data": {
            "text/html": [
              "<div>\n",
              "<style scoped>\n",
              "    .dataframe tbody tr th:only-of-type {\n",
              "        vertical-align: middle;\n",
              "    }\n",
              "\n",
              "    .dataframe tbody tr th {\n",
              "        vertical-align: top;\n",
              "    }\n",
              "\n",
              "    .dataframe thead th {\n",
              "        text-align: right;\n",
              "    }\n",
              "</style>\n",
              "<table border=\"1\" class=\"dataframe\">\n",
              "  <thead>\n",
              "    <tr style=\"text-align: right;\">\n",
              "      <th></th>\n",
              "      <th>customer_id</th>\n",
              "      <th>first_name</th>\n",
              "      <th>last_name</th>\n",
              "      <th>country</th>\n",
              "    </tr>\n",
              "  </thead>\n",
              "  <tbody>\n",
              "    <tr>\n",
              "      <th>0</th>\n",
              "      <td>21</td>\n",
              "      <td>Michelle</td>\n",
              "      <td>Clark</td>\n",
              "      <td>Bangladesh</td>\n",
              "    </tr>\n",
              "    <tr>\n",
              "      <th>1</th>\n",
              "      <td>332</td>\n",
              "      <td>Stephen</td>\n",
              "      <td>Qualls</td>\n",
              "      <td>Bangladesh</td>\n",
              "    </tr>\n",
              "    <tr>\n",
              "      <th>2</th>\n",
              "      <td>329</td>\n",
              "      <td>Frank</td>\n",
              "      <td>Waggoner</td>\n",
              "      <td>Bangladesh</td>\n",
              "    </tr>\n",
              "    <tr>\n",
              "      <th>3</th>\n",
              "      <td>80</td>\n",
              "      <td>Marilyn</td>\n",
              "      <td>Ross</td>\n",
              "      <td>Nigeria</td>\n",
              "    </tr>\n",
              "    <tr>\n",
              "      <th>4</th>\n",
              "      <td>198</td>\n",
              "      <td>Elsie</td>\n",
              "      <td>Kelley</td>\n",
              "      <td>Nigeria</td>\n",
              "    </tr>\n",
              "    <tr>\n",
              "      <th>5</th>\n",
              "      <td>103</td>\n",
              "      <td>Gladys</td>\n",
              "      <td>Hamilton</td>\n",
              "      <td>Nigeria</td>\n",
              "    </tr>\n",
              "    <tr>\n",
              "      <th>6</th>\n",
              "      <td>284</td>\n",
              "      <td>Sonia</td>\n",
              "      <td>Gregory</td>\n",
              "      <td>Nigeria</td>\n",
              "    </tr>\n",
              "    <tr>\n",
              "      <th>7</th>\n",
              "      <td>409</td>\n",
              "      <td>Rodney</td>\n",
              "      <td>Moeller</td>\n",
              "      <td>Nigeria</td>\n",
              "    </tr>\n",
              "    <tr>\n",
              "      <th>8</th>\n",
              "      <td>286</td>\n",
              "      <td>Velma</td>\n",
              "      <td>Lucas</td>\n",
              "      <td>Nigeria</td>\n",
              "    </tr>\n",
              "    <tr>\n",
              "      <th>9</th>\n",
              "      <td>18</td>\n",
              "      <td>Carol</td>\n",
              "      <td>Garcia</td>\n",
              "      <td>Nigeria</td>\n",
              "    </tr>\n",
              "    <tr>\n",
              "      <th>10</th>\n",
              "      <td>277</td>\n",
              "      <td>Olga</td>\n",
              "      <td>Jimenez</td>\n",
              "      <td>Nigeria</td>\n",
              "    </tr>\n",
              "    <tr>\n",
              "      <th>11</th>\n",
              "      <td>156</td>\n",
              "      <td>Bertha</td>\n",
              "      <td>Ferguson</td>\n",
              "      <td>Nigeria</td>\n",
              "    </tr>\n",
              "    <tr>\n",
              "      <th>12</th>\n",
              "      <td>280</td>\n",
              "      <td>Tracey</td>\n",
              "      <td>Barrett</td>\n",
              "      <td>Nigeria</td>\n",
              "    </tr>\n",
              "    <tr>\n",
              "      <th>13</th>\n",
              "      <td>250</td>\n",
              "      <td>Jo</td>\n",
              "      <td>Fowler</td>\n",
              "      <td>Nigeria</td>\n",
              "    </tr>\n",
              "    <tr>\n",
              "      <th>14</th>\n",
              "      <td>562</td>\n",
              "      <td>Wallace</td>\n",
              "      <td>Slone</td>\n",
              "      <td>Nigeria</td>\n",
              "    </tr>\n",
              "    <tr>\n",
              "      <th>15</th>\n",
              "      <td>232</td>\n",
              "      <td>Constance</td>\n",
              "      <td>Reid</td>\n",
              "      <td>Nigeria</td>\n",
              "    </tr>\n",
              "    <tr>\n",
              "      <th>16</th>\n",
              "      <td>318</td>\n",
              "      <td>Brian</td>\n",
              "      <td>Wyman</td>\n",
              "      <td>Poland</td>\n",
              "    </tr>\n",
              "    <tr>\n",
              "      <th>17</th>\n",
              "      <td>572</td>\n",
              "      <td>Sidney</td>\n",
              "      <td>Burleson</td>\n",
              "      <td>Poland</td>\n",
              "    </tr>\n",
              "    <tr>\n",
              "      <th>18</th>\n",
              "      <td>128</td>\n",
              "      <td>Marjorie</td>\n",
              "      <td>Tucker</td>\n",
              "      <td>Poland</td>\n",
              "    </tr>\n",
              "    <tr>\n",
              "      <th>19</th>\n",
              "      <td>380</td>\n",
              "      <td>Russell</td>\n",
              "      <td>Brinson</td>\n",
              "      <td>Poland</td>\n",
              "    </tr>\n",
              "    <tr>\n",
              "      <th>20</th>\n",
              "      <td>270</td>\n",
              "      <td>Leah</td>\n",
              "      <td>Curtis</td>\n",
              "      <td>Poland</td>\n",
              "    </tr>\n",
              "    <tr>\n",
              "      <th>21</th>\n",
              "      <td>501</td>\n",
              "      <td>Ruben</td>\n",
              "      <td>Geary</td>\n",
              "      <td>Poland</td>\n",
              "    </tr>\n",
              "    <tr>\n",
              "      <th>22</th>\n",
              "      <td>571</td>\n",
              "      <td>Johnnie</td>\n",
              "      <td>Chisholm</td>\n",
              "      <td>Poland</td>\n",
              "    </tr>\n",
              "    <tr>\n",
              "      <th>23</th>\n",
              "      <td>558</td>\n",
              "      <td>Jimmie</td>\n",
              "      <td>Eggleston</td>\n",
              "      <td>Poland</td>\n",
              "    </tr>\n",
              "  </tbody>\n",
              "</table>\n",
              "</div>"
            ],
            "text/plain": [
              "    customer_id first_name  last_name     country\n",
              "0            21   Michelle      Clark  Bangladesh\n",
              "1           332    Stephen     Qualls  Bangladesh\n",
              "2           329      Frank   Waggoner  Bangladesh\n",
              "3            80    Marilyn       Ross     Nigeria\n",
              "4           198      Elsie     Kelley     Nigeria\n",
              "5           103     Gladys   Hamilton     Nigeria\n",
              "6           284      Sonia    Gregory     Nigeria\n",
              "7           409     Rodney    Moeller     Nigeria\n",
              "8           286      Velma      Lucas     Nigeria\n",
              "9            18      Carol     Garcia     Nigeria\n",
              "10          277       Olga    Jimenez     Nigeria\n",
              "11          156     Bertha   Ferguson     Nigeria\n",
              "12          280     Tracey    Barrett     Nigeria\n",
              "13          250         Jo     Fowler     Nigeria\n",
              "14          562    Wallace      Slone     Nigeria\n",
              "15          232  Constance       Reid     Nigeria\n",
              "16          318      Brian      Wyman      Poland\n",
              "17          572     Sidney   Burleson      Poland\n",
              "18          128   Marjorie     Tucker      Poland\n",
              "19          380    Russell    Brinson      Poland\n",
              "20          270       Leah     Curtis      Poland\n",
              "21          501      Ruben      Geary      Poland\n",
              "22          571    Johnnie   Chisholm      Poland\n",
              "23          558     Jimmie  Eggleston      Poland"
            ]
          },
          "execution_count": 12,
          "metadata": {},
          "output_type": "execute_result"
        }
      ],
      "source": [
        "ans = pd.read_sql(\"SELECT customer_id, first_name, last_name, country \\\n",
        "                   FROM customer \\\n",
        "                   INNER JOIN address \\\n",
        "                   ON customer.address_id = address.address_id \\\n",
        "                        INNER JOIN city \\\n",
        "                        ON city.city_id = address.city_id \\\n",
        "                            INNER JOIN country \\\n",
        "                            ON country.country_id = city.country_id \\\n",
        "                                WHERE country.country IN ('Poland', 'Nigeria', 'Bangladesh')\\\n",
        "                                ORDER BY country\", con=connection)\n",
        "ans"
      ]
    },
    {
      "cell_type": "markdown",
      "metadata": {},
      "source": [
        "## 8. Gdzie mieszkają pracownicy?"
      ]
    },
    {
      "cell_type": "code",
      "execution_count": 13,
      "metadata": {},
      "outputs": [
        {
          "data": {
            "text/html": [
              "<div>\n",
              "<style scoped>\n",
              "    .dataframe tbody tr th:only-of-type {\n",
              "        vertical-align: middle;\n",
              "    }\n",
              "\n",
              "    .dataframe tbody tr th {\n",
              "        vertical-align: top;\n",
              "    }\n",
              "\n",
              "    .dataframe thead th {\n",
              "        text-align: right;\n",
              "    }\n",
              "</style>\n",
              "<table border=\"1\" class=\"dataframe\">\n",
              "  <thead>\n",
              "    <tr style=\"text-align: right;\">\n",
              "      <th></th>\n",
              "      <th>city</th>\n",
              "      <th>country</th>\n",
              "    </tr>\n",
              "  </thead>\n",
              "  <tbody>\n",
              "    <tr>\n",
              "      <th>0</th>\n",
              "      <td>Woodridge</td>\n",
              "      <td>Australia</td>\n",
              "    </tr>\n",
              "    <tr>\n",
              "      <th>1</th>\n",
              "      <td>Lethbridge</td>\n",
              "      <td>Canada</td>\n",
              "    </tr>\n",
              "  </tbody>\n",
              "</table>\n",
              "</div>"
            ],
            "text/plain": [
              "         city    country\n",
              "0   Woodridge  Australia\n",
              "1  Lethbridge     Canada"
            ]
          },
          "execution_count": 13,
          "metadata": {},
          "output_type": "execute_result"
        }
      ],
      "source": [
        "ans = pd.read_sql(\"SELECT city, country\\\n",
        "                   FROM staff \\\n",
        "                   INNER JOIN address \\\n",
        "                   ON staff.address_id = address.address_id \\\n",
        "                        INNER JOIN city \\\n",
        "                        ON city.city_id = address.city_id \\\n",
        "                            INNER JOIN country \\\n",
        "                            ON country.country_id = city.country_id \\\n",
        "                                ORDER BY country\", con=connection)\n",
        "ans"
      ]
    },
    {
      "cell_type": "markdown",
      "metadata": {},
      "source": [
        "*Odp: pracownicy mieszkają w Woodridge w Australii oraz w Lethbridge w Kanadzie*"
      ]
    },
    {
      "cell_type": "markdown",
      "metadata": {},
      "source": [
        "## 9. Ilu pracowników mieszka w Argentynie lub Hiszpanii?\n",
        "\n",
        "*Odp: W Argentynie oraz w Hiszpanii nie mieszka żaden z pracowników*"
      ]
    },
    {
      "cell_type": "markdown",
      "metadata": {},
      "source": [
        "## 10. Jakie kategorie filmów zostały wypożyczone przez klientów?"
      ]
    },
    {
      "cell_type": "code",
      "execution_count": 14,
      "metadata": {},
      "outputs": [
        {
          "data": {
            "text/html": [
              "<div>\n",
              "<style scoped>\n",
              "    .dataframe tbody tr th:only-of-type {\n",
              "        vertical-align: middle;\n",
              "    }\n",
              "\n",
              "    .dataframe tbody tr th {\n",
              "        vertical-align: top;\n",
              "    }\n",
              "\n",
              "    .dataframe thead th {\n",
              "        text-align: right;\n",
              "    }\n",
              "</style>\n",
              "<table border=\"1\" class=\"dataframe\">\n",
              "  <thead>\n",
              "    <tr style=\"text-align: right;\">\n",
              "      <th></th>\n",
              "      <th>name</th>\n",
              "    </tr>\n",
              "  </thead>\n",
              "  <tbody>\n",
              "    <tr>\n",
              "      <th>0</th>\n",
              "      <td>Action</td>\n",
              "    </tr>\n",
              "    <tr>\n",
              "      <th>1</th>\n",
              "      <td>Animation</td>\n",
              "    </tr>\n",
              "    <tr>\n",
              "      <th>2</th>\n",
              "      <td>Children</td>\n",
              "    </tr>\n",
              "    <tr>\n",
              "      <th>3</th>\n",
              "      <td>Classics</td>\n",
              "    </tr>\n",
              "    <tr>\n",
              "      <th>4</th>\n",
              "      <td>Comedy</td>\n",
              "    </tr>\n",
              "    <tr>\n",
              "      <th>5</th>\n",
              "      <td>Documentary</td>\n",
              "    </tr>\n",
              "    <tr>\n",
              "      <th>6</th>\n",
              "      <td>Drama</td>\n",
              "    </tr>\n",
              "    <tr>\n",
              "      <th>7</th>\n",
              "      <td>Family</td>\n",
              "    </tr>\n",
              "    <tr>\n",
              "      <th>8</th>\n",
              "      <td>Foreign</td>\n",
              "    </tr>\n",
              "    <tr>\n",
              "      <th>9</th>\n",
              "      <td>Games</td>\n",
              "    </tr>\n",
              "    <tr>\n",
              "      <th>10</th>\n",
              "      <td>Horror</td>\n",
              "    </tr>\n",
              "    <tr>\n",
              "      <th>11</th>\n",
              "      <td>Music</td>\n",
              "    </tr>\n",
              "    <tr>\n",
              "      <th>12</th>\n",
              "      <td>New</td>\n",
              "    </tr>\n",
              "    <tr>\n",
              "      <th>13</th>\n",
              "      <td>Sci-Fi</td>\n",
              "    </tr>\n",
              "    <tr>\n",
              "      <th>14</th>\n",
              "      <td>Sports</td>\n",
              "    </tr>\n",
              "    <tr>\n",
              "      <th>15</th>\n",
              "      <td>Travel</td>\n",
              "    </tr>\n",
              "  </tbody>\n",
              "</table>\n",
              "</div>"
            ],
            "text/plain": [
              "           name\n",
              "0        Action\n",
              "1     Animation\n",
              "2      Children\n",
              "3      Classics\n",
              "4        Comedy\n",
              "5   Documentary\n",
              "6         Drama\n",
              "7        Family\n",
              "8       Foreign\n",
              "9         Games\n",
              "10       Horror\n",
              "11        Music\n",
              "12          New\n",
              "13       Sci-Fi\n",
              "14       Sports\n",
              "15       Travel"
            ]
          },
          "execution_count": 14,
          "metadata": {},
          "output_type": "execute_result"
        }
      ],
      "source": [
        "ans = pd.read_sql(\"SELECT DISTINCT category.name\\\n",
        "                   FROM rental \\\n",
        "                   INNER JOIN inventory \\\n",
        "                   ON inventory.inventory_id = rental.inventory_id \\\n",
        "                        INNER JOIN film \\\n",
        "                        ON film.film_id = inventory.film_id \\\n",
        "                            INNER JOIN film_category \\\n",
        "                            ON film.film_id = film_category.film_id \\\n",
        "                                INNER JOIN category \\\n",
        "                                ON category.category_id = film_category.category_id\\\n",
        "                                ORDER BY category.name\", con=connection)\n",
        "ans"
      ]
    },
    {
      "cell_type": "markdown",
      "metadata": {},
      "source": [
        "*Odp: Porównując wynik z wynikiem z zadania 2. można stwierdzić, że wszystkie kategorie filmów zostały wypożyczone przez klientów*"
      ]
    },
    {
      "cell_type": "markdown",
      "metadata": {},
      "source": [
        "## 11. Znajdź wszystkie kategorie filmów wypożyczonych w Ameryce."
      ]
    },
    {
      "cell_type": "markdown",
      "metadata": {},
      "source": [
        "### a) W Ameryce - czyli wypożyczonych w sklepie znajdującym się na kontynencie amerykańckim"
      ]
    },
    {
      "cell_type": "code",
      "execution_count": 16,
      "metadata": {},
      "outputs": [
        {
          "data": {
            "text/html": [
              "<div>\n",
              "<style scoped>\n",
              "    .dataframe tbody tr th:only-of-type {\n",
              "        vertical-align: middle;\n",
              "    }\n",
              "\n",
              "    .dataframe tbody tr th {\n",
              "        vertical-align: top;\n",
              "    }\n",
              "\n",
              "    .dataframe thead th {\n",
              "        text-align: right;\n",
              "    }\n",
              "</style>\n",
              "<table border=\"1\" class=\"dataframe\">\n",
              "  <thead>\n",
              "    <tr style=\"text-align: right;\">\n",
              "      <th></th>\n",
              "      <th>name</th>\n",
              "    </tr>\n",
              "  </thead>\n",
              "  <tbody>\n",
              "    <tr>\n",
              "      <th>0</th>\n",
              "      <td>Action</td>\n",
              "    </tr>\n",
              "    <tr>\n",
              "      <th>1</th>\n",
              "      <td>Animation</td>\n",
              "    </tr>\n",
              "    <tr>\n",
              "      <th>2</th>\n",
              "      <td>Children</td>\n",
              "    </tr>\n",
              "    <tr>\n",
              "      <th>3</th>\n",
              "      <td>Classics</td>\n",
              "    </tr>\n",
              "    <tr>\n",
              "      <th>4</th>\n",
              "      <td>Comedy</td>\n",
              "    </tr>\n",
              "    <tr>\n",
              "      <th>5</th>\n",
              "      <td>Documentary</td>\n",
              "    </tr>\n",
              "    <tr>\n",
              "      <th>6</th>\n",
              "      <td>Drama</td>\n",
              "    </tr>\n",
              "    <tr>\n",
              "      <th>7</th>\n",
              "      <td>Family</td>\n",
              "    </tr>\n",
              "    <tr>\n",
              "      <th>8</th>\n",
              "      <td>Foreign</td>\n",
              "    </tr>\n",
              "    <tr>\n",
              "      <th>9</th>\n",
              "      <td>Games</td>\n",
              "    </tr>\n",
              "    <tr>\n",
              "      <th>10</th>\n",
              "      <td>Horror</td>\n",
              "    </tr>\n",
              "    <tr>\n",
              "      <th>11</th>\n",
              "      <td>Music</td>\n",
              "    </tr>\n",
              "    <tr>\n",
              "      <th>12</th>\n",
              "      <td>New</td>\n",
              "    </tr>\n",
              "    <tr>\n",
              "      <th>13</th>\n",
              "      <td>Sci-Fi</td>\n",
              "    </tr>\n",
              "    <tr>\n",
              "      <th>14</th>\n",
              "      <td>Sports</td>\n",
              "    </tr>\n",
              "    <tr>\n",
              "      <th>15</th>\n",
              "      <td>Travel</td>\n",
              "    </tr>\n",
              "  </tbody>\n",
              "</table>\n",
              "</div>"
            ],
            "text/plain": [
              "           name\n",
              "0        Action\n",
              "1     Animation\n",
              "2      Children\n",
              "3      Classics\n",
              "4        Comedy\n",
              "5   Documentary\n",
              "6         Drama\n",
              "7        Family\n",
              "8       Foreign\n",
              "9         Games\n",
              "10       Horror\n",
              "11        Music\n",
              "12          New\n",
              "13       Sci-Fi\n",
              "14       Sports\n",
              "15       Travel"
            ]
          },
          "execution_count": 16,
          "metadata": {},
          "output_type": "execute_result"
        }
      ],
      "source": [
        "ans = pd.read_sql(\" SELECT DISTINCT category.name\\\n",
        "                    FROM rental \\\n",
        "                    INNER JOIN inventory \\\n",
        "                        ON inventory.inventory_id = rental.inventory_id \\\n",
        "                    INNER JOIN film \\\n",
        "                        ON film.film_id = inventory.film_id \\\n",
        "                    INNER JOIN film_category \\\n",
        "                        ON film.film_id = film_category.film_id \\\n",
        "                    INNER JOIN category \\\n",
        "                        ON category.category_id = film_category.category_id\\\n",
        "                    WHERE inventory.store_id IN ( \\\n",
        "                        SELECT store_id\\\n",
        "                        FROM store \\\n",
        "                        INNER JOIN address \\\n",
        "                            ON store.address_id = address.address_id \\\n",
        "                        INNER JOIN city \\\n",
        "                            ON city.city_id = address.city_id \\\n",
        "                        INNER JOIN country \\\n",
        "                            ON country.country_id = city.country_id \\\n",
        "                        WHERE country = 'Canada' ) \\\n",
        "                    ORDER BY name\", con=connection)\n",
        "ans"
      ]
    },
    {
      "cell_type": "markdown",
      "metadata": {},
      "source": [
        "### b) W Ameryce - jako państwie zamieszkania klienta"
      ]
    },
    {
      "cell_type": "code",
      "execution_count": 22,
      "metadata": {},
      "outputs": [
        {
          "data": {
            "text/html": [
              "<div>\n",
              "<style scoped>\n",
              "    .dataframe tbody tr th:only-of-type {\n",
              "        vertical-align: middle;\n",
              "    }\n",
              "\n",
              "    .dataframe tbody tr th {\n",
              "        vertical-align: top;\n",
              "    }\n",
              "\n",
              "    .dataframe thead th {\n",
              "        text-align: right;\n",
              "    }\n",
              "</style>\n",
              "<table border=\"1\" class=\"dataframe\">\n",
              "  <thead>\n",
              "    <tr style=\"text-align: right;\">\n",
              "      <th></th>\n",
              "      <th>name</th>\n",
              "    </tr>\n",
              "  </thead>\n",
              "  <tbody>\n",
              "    <tr>\n",
              "      <th>0</th>\n",
              "      <td>Action</td>\n",
              "    </tr>\n",
              "    <tr>\n",
              "      <th>1</th>\n",
              "      <td>Animation</td>\n",
              "    </tr>\n",
              "    <tr>\n",
              "      <th>2</th>\n",
              "      <td>Children</td>\n",
              "    </tr>\n",
              "    <tr>\n",
              "      <th>3</th>\n",
              "      <td>Classics</td>\n",
              "    </tr>\n",
              "    <tr>\n",
              "      <th>4</th>\n",
              "      <td>Comedy</td>\n",
              "    </tr>\n",
              "    <tr>\n",
              "      <th>5</th>\n",
              "      <td>Documentary</td>\n",
              "    </tr>\n",
              "    <tr>\n",
              "      <th>6</th>\n",
              "      <td>Drama</td>\n",
              "    </tr>\n",
              "    <tr>\n",
              "      <th>7</th>\n",
              "      <td>Family</td>\n",
              "    </tr>\n",
              "    <tr>\n",
              "      <th>8</th>\n",
              "      <td>Foreign</td>\n",
              "    </tr>\n",
              "    <tr>\n",
              "      <th>9</th>\n",
              "      <td>Games</td>\n",
              "    </tr>\n",
              "    <tr>\n",
              "      <th>10</th>\n",
              "      <td>Horror</td>\n",
              "    </tr>\n",
              "    <tr>\n",
              "      <th>11</th>\n",
              "      <td>Music</td>\n",
              "    </tr>\n",
              "    <tr>\n",
              "      <th>12</th>\n",
              "      <td>New</td>\n",
              "    </tr>\n",
              "    <tr>\n",
              "      <th>13</th>\n",
              "      <td>Sci-Fi</td>\n",
              "    </tr>\n",
              "    <tr>\n",
              "      <th>14</th>\n",
              "      <td>Sports</td>\n",
              "    </tr>\n",
              "    <tr>\n",
              "      <th>15</th>\n",
              "      <td>Travel</td>\n",
              "    </tr>\n",
              "  </tbody>\n",
              "</table>\n",
              "</div>"
            ],
            "text/plain": [
              "           name\n",
              "0        Action\n",
              "1     Animation\n",
              "2      Children\n",
              "3      Classics\n",
              "4        Comedy\n",
              "5   Documentary\n",
              "6         Drama\n",
              "7        Family\n",
              "8       Foreign\n",
              "9         Games\n",
              "10       Horror\n",
              "11        Music\n",
              "12          New\n",
              "13       Sci-Fi\n",
              "14       Sports\n",
              "15       Travel"
            ]
          },
          "execution_count": 22,
          "metadata": {},
          "output_type": "execute_result"
        }
      ],
      "source": [
        "ans = pd.read_sql(\" SELECT DISTINCT category.name\\\n",
        "                    FROM rental \\\n",
        "                    INNER JOIN inventory \\\n",
        "                        ON inventory.inventory_id = rental.inventory_id \\\n",
        "                    INNER JOIN film \\\n",
        "                        ON film.film_id = inventory.film_id \\\n",
        "                    INNER JOIN film_category \\\n",
        "                        ON film.film_id = film_category.film_id \\\n",
        "                    INNER JOIN category \\\n",
        "                        ON category.category_id = film_category.category_id\\\n",
        "                    WHERE rental.customer_id IN ( \\\n",
        "                        SELECT customer_id \\\n",
        "                        FROM customer \\\n",
        "                        INNER JOIN address \\\n",
        "                        ON customer.address_id = address.address_id \\\n",
        "                        INNER JOIN city \\\n",
        "                        ON city.city_id = address.city_id \\\n",
        "                            INNER JOIN country \\\n",
        "                            ON country.country_id = city.country_id \\\n",
        "                                WHERE country.country = 'United States' ) \\\n",
        "                    ORDER BY name\", con=connection)\n",
        "ans"
      ]
    },
    {
      "cell_type": "markdown",
      "metadata": {},
      "source": [
        "*Odp: W Amreyce (rozumianej na oba sposoby) wypożyczono wszystkie dostępne kategorie filmów*"
      ]
    },
    {
      "cell_type": "markdown",
      "metadata": {},
      "source": [
        "## 12. Znajdź wszystkie tytuły filmów, w których grał: Olympia Pfeiffer lub Julia Zellweger lub Ellen Presley"
      ]
    },
    {
      "cell_type": "code",
      "execution_count": 18,
      "metadata": {},
      "outputs": [
        {
          "data": {
            "text/html": [
              "<div>\n",
              "<style scoped>\n",
              "    .dataframe tbody tr th:only-of-type {\n",
              "        vertical-align: middle;\n",
              "    }\n",
              "\n",
              "    .dataframe tbody tr th {\n",
              "        vertical-align: top;\n",
              "    }\n",
              "\n",
              "    .dataframe thead th {\n",
              "        text-align: right;\n",
              "    }\n",
              "</style>\n",
              "<table border=\"1\" class=\"dataframe\">\n",
              "  <thead>\n",
              "    <tr style=\"text-align: right;\">\n",
              "      <th></th>\n",
              "      <th>title</th>\n",
              "      <th>first_name</th>\n",
              "      <th>last_name</th>\n",
              "    </tr>\n",
              "  </thead>\n",
              "  <tbody>\n",
              "    <tr>\n",
              "      <th>0</th>\n",
              "      <td>Bilko Anonymous</td>\n",
              "      <td>Ellen</td>\n",
              "      <td>Presley</td>\n",
              "    </tr>\n",
              "    <tr>\n",
              "      <th>1</th>\n",
              "      <td>Caribbean Liberty</td>\n",
              "      <td>Ellen</td>\n",
              "      <td>Presley</td>\n",
              "    </tr>\n",
              "    <tr>\n",
              "      <th>2</th>\n",
              "      <td>Casper Dragonfly</td>\n",
              "      <td>Ellen</td>\n",
              "      <td>Presley</td>\n",
              "    </tr>\n",
              "    <tr>\n",
              "      <th>3</th>\n",
              "      <td>Empire Malkovich</td>\n",
              "      <td>Ellen</td>\n",
              "      <td>Presley</td>\n",
              "    </tr>\n",
              "    <tr>\n",
              "      <th>4</th>\n",
              "      <td>Floats Garden</td>\n",
              "      <td>Ellen</td>\n",
              "      <td>Presley</td>\n",
              "    </tr>\n",
              "    <tr>\n",
              "      <th>...</th>\n",
              "      <td>...</td>\n",
              "      <td>...</td>\n",
              "      <td>...</td>\n",
              "    </tr>\n",
              "    <tr>\n",
              "      <th>64</th>\n",
              "      <td>Outlaw Hanky</td>\n",
              "      <td>Julia</td>\n",
              "      <td>Zellweger</td>\n",
              "    </tr>\n",
              "    <tr>\n",
              "      <th>65</th>\n",
              "      <td>Panky Submarine</td>\n",
              "      <td>Julia</td>\n",
              "      <td>Zellweger</td>\n",
              "    </tr>\n",
              "    <tr>\n",
              "      <th>66</th>\n",
              "      <td>Rider Caddyshack</td>\n",
              "      <td>Julia</td>\n",
              "      <td>Zellweger</td>\n",
              "    </tr>\n",
              "    <tr>\n",
              "      <th>67</th>\n",
              "      <td>Won Dares</td>\n",
              "      <td>Julia</td>\n",
              "      <td>Zellweger</td>\n",
              "    </tr>\n",
              "    <tr>\n",
              "      <th>68</th>\n",
              "      <td>Wyoming Storm</td>\n",
              "      <td>Julia</td>\n",
              "      <td>Zellweger</td>\n",
              "    </tr>\n",
              "  </tbody>\n",
              "</table>\n",
              "<p>69 rows × 3 columns</p>\n",
              "</div>"
            ],
            "text/plain": [
              "                title first_name  last_name\n",
              "0     Bilko Anonymous      Ellen    Presley\n",
              "1   Caribbean Liberty      Ellen    Presley\n",
              "2    Casper Dragonfly      Ellen    Presley\n",
              "3    Empire Malkovich      Ellen    Presley\n",
              "4       Floats Garden      Ellen    Presley\n",
              "..                ...        ...        ...\n",
              "64       Outlaw Hanky      Julia  Zellweger\n",
              "65    Panky Submarine      Julia  Zellweger\n",
              "66   Rider Caddyshack      Julia  Zellweger\n",
              "67          Won Dares      Julia  Zellweger\n",
              "68      Wyoming Storm      Julia  Zellweger\n",
              "\n",
              "[69 rows x 3 columns]"
            ]
          },
          "execution_count": 18,
          "metadata": {},
          "output_type": "execute_result"
        }
      ],
      "source": [
        "ans = pd.read_sql(\" SELECT title, actor.first_name, actor.last_name \\\n",
        "                    FROM film, film_actor, actor \\\n",
        "                    WHERE ((actor.first_name = 'Olympia' AND actor.last_name = 'Pfeiffer') OR\\\n",
        "                    (actor.first_name = 'Julia' AND actor.last_name = 'Zellweger') OR \\\n",
        "                    (actor.first_name = 'Ellen' AND actor.last_name = 'Presley')) AND \\\n",
        "                    film.film_id = film_actor.film_id AND \\\n",
        "                    film_actor.actor_id = actor.actor_id\", con=connection)\n",
        "\n",
        "ans"
      ]
    },
    {
      "cell_type": "markdown",
      "metadata": {},
      "source": [
        "# Wnioski:\n",
        "\n",
        "- W Pythonie, korzystając z dodatkowych pakietów takich jak sqlalchemy lub psycopg2 i pandas, możemy analizować bazy danych korzystając z języka SQL.\n",
        "- Język SQL bazuje na zapytaniach - tzw. queries, które zaczynają się od instrukcji SELECT, do której można dodać wiele klauzul zmieniających jej działanie.\n",
        "- Istotnym jest, że w SQL operatorem porównania jest pojedynczy znak '=', a nie jak w języku Python podwójny - '=='.\n"
      ]
    }
  ],
  "metadata": {
    "colab": {
      "name": "AiBD_lab3.ipynb",
      "provenance": []
    },
    "interpreter": {
      "hash": "650fa4d04bac046c9ebccc169d54002cca466a1d91fbaf8b4ef9a57148f4b4a2"
    },
    "kernelspec": {
      "display_name": "Python 3.8.3 64-bit ('base': conda)",
      "name": "python3"
    },
    "language_info": {
      "codemirror_mode": {
        "name": "ipython",
        "version": 3
      },
      "file_extension": ".py",
      "mimetype": "text/x-python",
      "name": "python",
      "nbconvert_exporter": "python",
      "pygments_lexer": "ipython3",
      "version": "3.8.3"
    }
  },
  "nbformat": 4,
  "nbformat_minor": 0
}
