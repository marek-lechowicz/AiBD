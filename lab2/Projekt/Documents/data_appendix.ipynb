{
 "cells": [
  {
   "cell_type": "markdown",
   "metadata": {},
   "source": [
    "# Data appendix \n",
    "\n",
    "## 1. Variables in analysis_data.csv - contains infromation about respondents age, gender and their answer to the question: \"Do you think the \"Big One\" will occur in your lifetime?\"\n",
    "### All invalid observations were discarded in preprocessing.ipynb, so all records in analysis_data.csv have valid values."
   ]
  },
  {
   "cell_type": "code",
   "execution_count": 1,
   "metadata": {},
   "outputs": [
    {
     "data": {
      "text/html": [
       "<div>\n",
       "<style scoped>\n",
       "    .dataframe tbody tr th:only-of-type {\n",
       "        vertical-align: middle;\n",
       "    }\n",
       "\n",
       "    .dataframe tbody tr th {\n",
       "        vertical-align: top;\n",
       "    }\n",
       "\n",
       "    .dataframe thead th {\n",
       "        text-align: right;\n",
       "    }\n",
       "</style>\n",
       "<table border=\"1\" class=\"dataframe\">\n",
       "  <thead>\n",
       "    <tr style=\"text-align: right;\">\n",
       "      <th></th>\n",
       "      <th>Age</th>\n",
       "      <th>Gender</th>\n",
       "      <th>Big One expected</th>\n",
       "    </tr>\n",
       "  </thead>\n",
       "  <tbody>\n",
       "    <tr>\n",
       "      <th>0</th>\n",
       "      <td>18 - 29</td>\n",
       "      <td>Male</td>\n",
       "      <td>No</td>\n",
       "    </tr>\n",
       "    <tr>\n",
       "      <th>1</th>\n",
       "      <td>18 - 29</td>\n",
       "      <td>Male</td>\n",
       "      <td>No</td>\n",
       "    </tr>\n",
       "    <tr>\n",
       "      <th>2</th>\n",
       "      <td>18 - 29</td>\n",
       "      <td>Male</td>\n",
       "      <td>No</td>\n",
       "    </tr>\n",
       "    <tr>\n",
       "      <th>3</th>\n",
       "      <td>18 - 29</td>\n",
       "      <td>Male</td>\n",
       "      <td>No</td>\n",
       "    </tr>\n",
       "    <tr>\n",
       "      <th>4</th>\n",
       "      <td>18 - 29</td>\n",
       "      <td>Male</td>\n",
       "      <td>Yes</td>\n",
       "    </tr>\n",
       "  </tbody>\n",
       "</table>\n",
       "</div>"
      ],
      "text/plain": [
       "       Age Gender Big One expected\n",
       "0  18 - 29   Male               No\n",
       "1  18 - 29   Male               No\n",
       "2  18 - 29   Male               No\n",
       "3  18 - 29   Male               No\n",
       "4  18 - 29   Male              Yes"
      ]
     },
     "execution_count": 1,
     "metadata": {},
     "output_type": "execute_result"
    }
   ],
   "source": [
    "import pandas as pd\n",
    "ad = pd.read_csv('../AnalysisData/analysis_data.csv')\n",
    "ad.head()"
   ]
  },
  {
   "cell_type": "markdown",
   "metadata": {},
   "source": [
    "## 1.1 'Age'\n",
    "### Variable 'Age' describe respondents age - the name of the variable is the same as it was in the original data. Available values are: 18-29, 30-44, 45-59, 60+.\n",
    "\n",
    "### Frequency table and histogram of 'Age' variable:"
   ]
  },
  {
   "cell_type": "code",
   "execution_count": 2,
   "metadata": {},
   "outputs": [
    {
     "data": {
      "image/png": "[encoded data removed]",
      "text/plain": [
       "<Figure size 432x288 with 1 Axes>"
      ]
     },
     "metadata": {
      "needs_background": "light"
     },
     "output_type": "display_data"
    },
    {
     "name": "stdout",
     "output_type": "stream",
     "text": [
      "Frequency table\n",
      "Value      freq\n",
      "45 - 59    275\n",
      "30 - 44    257\n",
      "60         254\n",
      "18 - 29    215\n",
      "Name: Age, dtype: int64\n"
     ]
    }
   ],
   "source": [
    "import matplotlib.pyplot as plt\n",
    "\n",
    "plt.figure()\n",
    "ad['Age'].hist()\n",
    "plt.title('Age distribution')\n",
    "plt.show()\n",
    "\n",
    "print(\"Frequency table\\nValue      freq\")\n",
    "print(ad['Age'].value_counts())\n"
   ]
  },
  {
   "cell_type": "markdown",
   "metadata": {},
   "source": [
    "## 1.2 'Gender'\n",
    "### Variable 'Gender' describe respondents gender - originally header of the variable was \"What is your gender?\". Available values are: Male, Female.\n",
    "\n",
    "### Frequency table and histogram of 'Gender' variable:"
   ]
  },
  {
   "cell_type": "code",
   "execution_count": 3,
   "metadata": {},
   "outputs": [
    {
     "data": {
      "image/png": "[encoded data removed]",
      "text/plain": [
       "<Figure size 432x288 with 1 Axes>"
      ]
     },
     "metadata": {
      "needs_background": "light"
     },
     "output_type": "display_data"
    },
    {
     "name": "stdout",
     "output_type": "stream",
     "text": [
      "Frequency table\n",
      "Value      freq\n",
      "Female    521\n",
      "Male      480\n",
      "Name: Gender, dtype: int64\n"
     ]
    }
   ],
   "source": [
    "import matplotlib.pyplot as plt\n",
    "\n",
    "plt.figure()\n",
    "ad['Gender'].hist()\n",
    "plt.title('Gender distribution')\n",
    "plt.show()\n",
    "\n",
    "print(\"Frequency table\\nValue      freq\")\n",
    "print(ad['Gender'].value_counts())"
   ]
  },
  {
   "cell_type": "markdown",
   "metadata": {},
   "source": [
    "## 1.3 'Big One expected'\n",
    "### Variable 'Big one expected' contains respondents answer to the question which originally was the header of the column - \"Do you think the \"Big One\" will occur in your lifetime?\". Available values are: Yes, No.\n",
    "\n",
    "### Frequency table and histogram of 'Big one expected' variable:"
   ]
  },
  {
   "cell_type": "code",
   "execution_count": 4,
   "metadata": {},
   "outputs": [
    {
     "data": {
      "image/png": "[encoded data removed]",
      "text/plain": [
       "<Figure size 432x288 with 1 Axes>"
      ]
     },
     "metadata": {
      "needs_background": "light"
     },
     "output_type": "display_data"
    },
    {
     "name": "stdout",
     "output_type": "stream",
     "text": [
      "Frequency table\n",
      "Value      freq\n",
      "No     577\n",
      "Yes    436\n",
      "Name: Big One expected, dtype: int64\n"
     ]
    }
   ],
   "source": [
    "import matplotlib.pyplot as plt\n",
    "\n",
    "plt.figure()\n",
    "ad['Big One expected'].hist()\n",
    "plt.title('Big One expectancy distribution')\n",
    "plt.show()\n",
    "\n",
    "print(\"Frequency table\\nValue      freq\")\n",
    "print(ad['Big One expected'].value_counts())"
   ]
  }
 ],
 "metadata": {
  "interpreter": {
   "hash": "650fa4d04bac046c9ebccc169d54002cca466a1d91fbaf8b4ef9a57148f4b4a2"
  },
  "kernelspec": {
   "display_name": "Python 3.8.3 64-bit ('base': conda)",
   "name": "python3"
  },
  "language_info": {
   "codemirror_mode": {
    "name": "ipython",
    "version": 3
   },
   "file_extension": ".py",
   "mimetype": "text/x-python",
   "name": "python",
   "nbconvert_exporter": "python",
   "pygments_lexer": "ipython3",
   "version": "3.8.3"
  },
  "orig_nbformat": 4
 },
 "nbformat": 4,
 "nbformat_minor": 2
}
