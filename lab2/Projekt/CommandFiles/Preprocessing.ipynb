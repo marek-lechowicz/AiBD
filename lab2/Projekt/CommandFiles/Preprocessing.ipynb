{
 "cells": [
  {
   "cell_type": "markdown",
   "metadata": {},
   "source": [
    "# 1. Loading original data"
   ]
  },
  {
   "cell_type": "code",
   "execution_count": 1,
   "metadata": {},
   "outputs": [
    {
     "name": "stdout",
     "output_type": "stream",
     "text": [
      "Index(['In general, how worried are you about earthquakes?',\n",
      "       'How worried are you about the Big One, a massive, catastrophic earthquake?',\n",
      "       'Do you think the \"Big One\" will occur in your lifetime?',\n",
      "       'Have you ever experienced an earthquake?',\n",
      "       'Have you or anyone in your household taken any precautions for an earthquake (packed an earthquake survival kit, prepared an evacuation plan, etc.)?',\n",
      "       'How familiar are you with the San Andreas Fault line?',\n",
      "       'How familiar are you with the Yellowstone Supervolcano?', 'Age',\n",
      "       'What is your gender?',\n",
      "       'How much total combined money did all members of your HOUSEHOLD earn last year?',\n",
      "       'US Region'],\n",
      "      dtype='object')\n"
     ]
    }
   ],
   "source": [
    "import pandas as pd\n",
    "\n",
    "df = pd.read_csv('../OriginalData/earthquake_data.csv')\n",
    "# df.head()\n",
    "# df.info()\n",
    "\n",
    "print(df.columns)"
   ]
  },
  {
   "cell_type": "markdown",
   "metadata": {},
   "source": [
    "# 2. Shorten columns' names\n",
    "\n",
    "because original column names are probably the exact text of questions in questionnaire they are impractical to use in further analysis and need to be changed."
   ]
  },
  {
   "cell_type": "code",
   "execution_count": 69,
   "metadata": {},
   "outputs": [
    {
     "data": {
      "text/html": [
       "<div>\n",
       "<style scoped>\n",
       "    .dataframe tbody tr th:only-of-type {\n",
       "        vertical-align: middle;\n",
       "    }\n",
       "\n",
       "    .dataframe tbody tr th {\n",
       "        vertical-align: top;\n",
       "    }\n",
       "\n",
       "    .dataframe thead th {\n",
       "        text-align: right;\n",
       "    }\n",
       "</style>\n",
       "<table border=\"1\" class=\"dataframe\">\n",
       "  <thead>\n",
       "    <tr style=\"text-align: right;\">\n",
       "      <th></th>\n",
       "      <th>General fear level</th>\n",
       "      <th>Big One fear level</th>\n",
       "      <th>Big One expected</th>\n",
       "      <th>Earthquake experience</th>\n",
       "      <th>Prepered</th>\n",
       "      <th>Familiarity with SAF</th>\n",
       "      <th>Familiarity with YS</th>\n",
       "      <th>Age</th>\n",
       "      <th>Gender</th>\n",
       "      <th>Earnings</th>\n",
       "      <th>US Region</th>\n",
       "    </tr>\n",
       "  </thead>\n",
       "  <tbody>\n",
       "    <tr>\n",
       "      <th>count</th>\n",
       "      <td>1013</td>\n",
       "      <td>1013</td>\n",
       "      <td>1013</td>\n",
       "      <td>1006</td>\n",
       "      <td>1006</td>\n",
       "      <td>1001</td>\n",
       "      <td>1001</td>\n",
       "      <td>1001</td>\n",
       "      <td>1001</td>\n",
       "      <td>1001</td>\n",
       "      <td>978</td>\n",
       "    </tr>\n",
       "    <tr>\n",
       "      <th>unique</th>\n",
       "      <td>5</td>\n",
       "      <td>5</td>\n",
       "      <td>2</td>\n",
       "      <td>3</td>\n",
       "      <td>2</td>\n",
       "      <td>5</td>\n",
       "      <td>5</td>\n",
       "      <td>4</td>\n",
       "      <td>2</td>\n",
       "      <td>11</td>\n",
       "      <td>9</td>\n",
       "    </tr>\n",
       "    <tr>\n",
       "      <th>top</th>\n",
       "      <td>Not at all worried</td>\n",
       "      <td>Not at all worried</td>\n",
       "      <td>No</td>\n",
       "      <td>Yes, one or more minor ones</td>\n",
       "      <td>No</td>\n",
       "      <td>Somewhat familiar</td>\n",
       "      <td>Somewhat familiar</td>\n",
       "      <td>45 - 59</td>\n",
       "      <td>Female</td>\n",
       "      <td>$50,000 to $74,999</td>\n",
       "      <td>Pacific</td>\n",
       "    </tr>\n",
       "    <tr>\n",
       "      <th>freq</th>\n",
       "      <td>356</td>\n",
       "      <td>334</td>\n",
       "      <td>577</td>\n",
       "      <td>483</td>\n",
       "      <td>788</td>\n",
       "      <td>397</td>\n",
       "      <td>280</td>\n",
       "      <td>275</td>\n",
       "      <td>521</td>\n",
       "      <td>175</td>\n",
       "      <td>206</td>\n",
       "    </tr>\n",
       "  </tbody>\n",
       "</table>\n",
       "</div>"
      ],
      "text/plain": [
       "        General fear level  Big One fear level Big One expected  \\\n",
       "count                 1013                1013             1013   \n",
       "unique                   5                   5                2   \n",
       "top     Not at all worried  Not at all worried               No   \n",
       "freq                   356                 334              577   \n",
       "\n",
       "              Earthquake experience Prepered Familiarity with SAF  \\\n",
       "count                          1006     1006                 1001   \n",
       "unique                            3        2                    5   \n",
       "top     Yes, one or more minor ones       No    Somewhat familiar   \n",
       "freq                            483      788                  397   \n",
       "\n",
       "       Familiarity with YS      Age  Gender            Earnings US Region  \n",
       "count                 1001     1001    1001                1001       978  \n",
       "unique                   5        4       2                  11         9  \n",
       "top      Somewhat familiar  45 - 59  Female  $50,000 to $74,999   Pacific  \n",
       "freq                   280      275     521                 175       206  "
      ]
     },
     "execution_count": 69,
     "metadata": {},
     "output_type": "execute_result"
    }
   ],
   "source": [
    "df.rename(columns={\"In general, how worried are you about earthquakes?\": \"General fear level\", \n",
    "                  \"How worried are you about the Big One, a massive, catastrophic earthquake?\": \"Big One fear level\", \n",
    "                  'Do you think the \"Big One\" will occur in your lifetime?': \"Big One expected\", \n",
    "                  \"Have you ever experienced an earthquake?\": \"Earthquake experience\",\n",
    "                  \"Have you or anyone in your household taken any precautions for an earthquake (packed an earthquake survival kit, prepared an evacuation plan, etc.)?\": \"Prepered\", \n",
    "                  \"How familiar are you with the San Andreas Fault line?\": \"Familiarity with SAF\", \n",
    "                  \"How familiar are you with the Yellowstone Supervolcano?\": \"Familiarity with YS\", \n",
    "                  \"What is your gender?\": \"Gender\", \n",
    "                  \"How much total combined money did all members of your HOUSEHOLD earn last year?\": \"Earnings\"}, inplace=True)\n",
    "\n",
    "df.describe(include='all')"
   ]
  },
  {
   "cell_type": "markdown",
   "metadata": {},
   "source": [
    "# 3. Check unique values in all columns "
   ]
  },
  {
   "cell_type": "code",
   "execution_count": 70,
   "metadata": {},
   "outputs": [
    {
     "name": "stdout",
     "output_type": "stream",
     "text": [
      "\n",
      "General fear level: ['Not at all worried' 'Somewhat worried' 'Not so worried' 'Very worried'\n",
      " 'Extremely worried']\n",
      "\n",
      "Big One fear level: ['Not so worried' 'Very worried' 'Somewhat worried' 'Not at all worried'\n",
      " 'Extremely worried']\n",
      "\n",
      "Big One expected: ['No' 'Yes']\n",
      "\n",
      "Earthquake experience: ['Yes, one or more minor ones' 'Yes, one or more major ones' 'No' nan]\n",
      "\n",
      "Prepered: ['No' 'Yes' nan]\n",
      "\n",
      "Familiarity with SAF: ['Somewhat familiar' 'Not at all familiar' 'Very familiar' nan\n",
      " 'Not so familiar' 'Extremely familiar']\n",
      "\n",
      "Familiarity with YS: ['Not so familiar' 'Not at all familiar' 'Somewhat familiar'\n",
      " 'Extremely familiar' nan 'Very familiar']\n",
      "\n",
      "Age: ['18 - 29' nan '30 - 44' '45 - 59' '60']\n",
      "\n",
      "Gender: ['Male' nan 'Female']\n",
      "\n",
      "Earnings: ['Prefer not to answer' '$75,000 to $99,999' '$10,000 to $24,999'\n",
      " '$25,000 to $49,999' '$200,000 and up' nan '$50,000 to $74,999'\n",
      " '$0 to $9,999' '$100,000 to $124,999' '$175,000 to $199,999'\n",
      " '$125,000 to $149,999' '$150,000 to $174,999']\n",
      "\n",
      "US Region: ['New England' 'East North Central' 'Pacific' 'West South Central'\n",
      " 'Middle Atlantic' nan 'South Atlantic' 'West North Central'\n",
      " 'East South Central' 'Mountain']\n"
     ]
    }
   ],
   "source": [
    "for column in df.columns:\n",
    "    print(f'\\n{column}: {df[column].unique()}')"
   ]
  },
  {
   "cell_type": "markdown",
   "metadata": {},
   "source": [
    "# 3. Map respondents' answers to numbers for further analysis\n",
    "\n",
    "for easier statistical analysis string ansewres are mapped to numerical ones."
   ]
  },
  {
   "cell_type": "code",
   "execution_count": 71,
   "metadata": {},
   "outputs": [
    {
     "data": {
      "text/html": [
       "<div>\n",
       "<style scoped>\n",
       "    .dataframe tbody tr th:only-of-type {\n",
       "        vertical-align: middle;\n",
       "    }\n",
       "\n",
       "    .dataframe tbody tr th {\n",
       "        vertical-align: top;\n",
       "    }\n",
       "\n",
       "    .dataframe thead th {\n",
       "        text-align: right;\n",
       "    }\n",
       "</style>\n",
       "<table border=\"1\" class=\"dataframe\">\n",
       "  <thead>\n",
       "    <tr style=\"text-align: right;\">\n",
       "      <th></th>\n",
       "      <th>General fear level</th>\n",
       "      <th>Big One fear level</th>\n",
       "      <th>Big One expected</th>\n",
       "      <th>Earthquake experience</th>\n",
       "      <th>Prepered</th>\n",
       "      <th>Familiarity with SAF</th>\n",
       "      <th>Familiarity with YS</th>\n",
       "      <th>Age</th>\n",
       "      <th>Gender</th>\n",
       "      <th>Earnings</th>\n",
       "      <th>US Region</th>\n",
       "    </tr>\n",
       "  </thead>\n",
       "  <tbody>\n",
       "    <tr>\n",
       "      <th>0</th>\n",
       "      <td>0</td>\n",
       "      <td>1</td>\n",
       "      <td>No</td>\n",
       "      <td>1.0</td>\n",
       "      <td>No</td>\n",
       "      <td>2.0</td>\n",
       "      <td>1.0</td>\n",
       "      <td>18 - 29</td>\n",
       "      <td>Male</td>\n",
       "      <td>Prefer not to answer</td>\n",
       "      <td>New England</td>\n",
       "    </tr>\n",
       "    <tr>\n",
       "      <th>1</th>\n",
       "      <td>2</td>\n",
       "      <td>3</td>\n",
       "      <td>No</td>\n",
       "      <td>1.0</td>\n",
       "      <td>No</td>\n",
       "      <td>0.0</td>\n",
       "      <td>0.0</td>\n",
       "      <td>18 - 29</td>\n",
       "      <td>Male</td>\n",
       "      <td>$75,000 to $99,999</td>\n",
       "      <td>East North Central</td>\n",
       "    </tr>\n",
       "    <tr>\n",
       "      <th>2</th>\n",
       "      <td>1</td>\n",
       "      <td>2</td>\n",
       "      <td>No</td>\n",
       "      <td>1.0</td>\n",
       "      <td>No</td>\n",
       "      <td>3.0</td>\n",
       "      <td>2.0</td>\n",
       "      <td>18 - 29</td>\n",
       "      <td>Male</td>\n",
       "      <td>$10,000 to $24,999</td>\n",
       "      <td>Pacific</td>\n",
       "    </tr>\n",
       "    <tr>\n",
       "      <th>3</th>\n",
       "      <td>1</td>\n",
       "      <td>1</td>\n",
       "      <td>No</td>\n",
       "      <td>1.0</td>\n",
       "      <td>No</td>\n",
       "      <td>3.0</td>\n",
       "      <td>1.0</td>\n",
       "      <td>18 - 29</td>\n",
       "      <td>Male</td>\n",
       "      <td>$25,000 to $49,999</td>\n",
       "      <td>West South Central</td>\n",
       "    </tr>\n",
       "    <tr>\n",
       "      <th>4</th>\n",
       "      <td>1</td>\n",
       "      <td>1</td>\n",
       "      <td>Yes</td>\n",
       "      <td>1.0</td>\n",
       "      <td>No</td>\n",
       "      <td>2.0</td>\n",
       "      <td>4.0</td>\n",
       "      <td>18 - 29</td>\n",
       "      <td>Male</td>\n",
       "      <td>$200,000 and up</td>\n",
       "      <td>Middle Atlantic</td>\n",
       "    </tr>\n",
       "  </tbody>\n",
       "</table>\n",
       "</div>"
      ],
      "text/plain": [
       "   General fear level  Big One fear level Big One expected  \\\n",
       "0                   0                   1               No   \n",
       "1                   2                   3               No   \n",
       "2                   1                   2               No   \n",
       "3                   1                   1               No   \n",
       "4                   1                   1              Yes   \n",
       "\n",
       "   Earthquake experience Prepered  Familiarity with SAF  Familiarity with YS  \\\n",
       "0                    1.0       No                   2.0                  1.0   \n",
       "1                    1.0       No                   0.0                  0.0   \n",
       "2                    1.0       No                   3.0                  2.0   \n",
       "3                    1.0       No                   3.0                  1.0   \n",
       "4                    1.0       No                   2.0                  4.0   \n",
       "\n",
       "       Age Gender              Earnings           US Region  \n",
       "0  18 - 29   Male  Prefer not to answer         New England  \n",
       "1  18 - 29   Male    $75,000 to $99,999  East North Central  \n",
       "2  18 - 29   Male    $10,000 to $24,999             Pacific  \n",
       "3  18 - 29   Male    $25,000 to $49,999  West South Central  \n",
       "4  18 - 29   Male       $200,000 and up     Middle Atlantic  "
      ]
     },
     "execution_count": 71,
     "metadata": {},
     "output_type": "execute_result"
    }
   ],
   "source": [
    "\n",
    "mapping_GeneralFearLevel = {'Not at all worried': 0, 'Not so worried': 1, 'Somewhat worried': 2, 'Very worried': 3, 'Extremely worried': 4}\n",
    "\n",
    "mapping_BigOneFearLevel = mapping_GeneralFearLevel\n",
    "\n",
    "mapping_EarthquakeExperince = {'No': 0, 'Yes, one or more minor ones': 1, 'Yes, one or more major ones': 2}\n",
    "\n",
    "mapping_FamiliarityWithSAF = {'Not at all familiar': 0, 'Not so familiar': 1, 'Somewhat familiar': 2, 'Very familiar': 3, 'Extremely familiar': 4}\n",
    "\n",
    "mapping_FamiliarityWithYS = mapping_FamiliarityWithSAF\n",
    "\n",
    "df.replace({'General fear level': mapping_GeneralFearLevel,\n",
    "            'Big One fear level': mapping_BigOneFearLevel,\n",
    "            'Earthquake experience': mapping_EarthquakeExperince,\n",
    "            'Familiarity with SAF': mapping_FamiliarityWithSAF,\n",
    "            'Familiarity with YS': mapping_FamiliarityWithYS }, inplace=True)\n",
    "\n",
    "df.head()"
   ]
  },
  {
   "cell_type": "markdown",
   "metadata": {},
   "source": [
    "# 5. Drop all NaN values\n",
    "\n",
    "because in original data there were only a small percentage of NaN values it is possible to get rid of them."
   ]
  },
  {
   "cell_type": "code",
   "execution_count": 72,
   "metadata": {},
   "outputs": [
    {
     "name": "stdout",
     "output_type": "stream",
     "text": [
      "<class 'pandas.core.frame.DataFrame'>\n",
      "Int64Index: 978 entries, 0 to 1011\n",
      "Data columns (total 11 columns):\n",
      " #   Column                 Non-Null Count  Dtype  \n",
      "---  ------                 --------------  -----  \n",
      " 0   General fear level     978 non-null    int64  \n",
      " 1   Big One fear level     978 non-null    int64  \n",
      " 2   Big One expected       978 non-null    object \n",
      " 3   Earthquake experience  978 non-null    float64\n",
      " 4   Prepered               978 non-null    object \n",
      " 5   Familiarity with SAF   978 non-null    float64\n",
      " 6   Familiarity with YS    978 non-null    float64\n",
      " 7   Age                    978 non-null    object \n",
      " 8   Gender                 978 non-null    object \n",
      " 9   Earnings               978 non-null    object \n",
      " 10  US Region              978 non-null    object \n",
      "dtypes: float64(3), int64(2), object(6)\n",
      "memory usage: 91.7+ KB\n"
     ]
    }
   ],
   "source": [
    "df.dropna(inplace=True)\n",
    "df.info()"
   ]
  },
  {
   "cell_type": "markdown",
   "metadata": {},
   "source": [
    "# 6. Split df to preserve \"tidy data\" rules - each type of observation unit creates a table \n",
    "\n",
    "There are two types of information stored in df: answer and demographics data about respondent. To obey \"tidy data\" rules df should be splitted in two dataframes - answers and demographics"
   ]
  },
  {
   "cell_type": "code",
   "execution_count": 73,
   "metadata": {},
   "outputs": [],
   "source": [
    "demographics = df[['Age', 'Gender', 'Earnings', 'US Region']]\n",
    "answers = df[['General fear level', 'Big One fear level', 'Big One expected',\n",
    "              'Earthquake experience', 'Prepered', 'Familiarity with SAF',\n",
    "              'Familiarity with YS']]"
   ]
  },
  {
   "cell_type": "markdown",
   "metadata": {},
   "source": [
    "# 7. Save results to .csv files"
   ]
  },
  {
   "cell_type": "code",
   "execution_count": 74,
   "metadata": {},
   "outputs": [],
   "source": [
    "answers.to_csv('../AnalysisData/answers.csv')\n",
    "demographics.to_csv('../AnalysisData/demographics.csv')"
   ]
  }
 ],
 "metadata": {
  "celltoolbar": "Slideshow",
  "interpreter": {
   "hash": "650fa4d04bac046c9ebccc169d54002cca466a1d91fbaf8b4ef9a57148f4b4a2"
  },
  "kernelspec": {
   "display_name": "Python 3.8.3 64-bit ('base': conda)",
   "name": "python3"
  },
  "language_info": {
   "codemirror_mode": {
    "name": "ipython",
    "version": 3
   },
   "file_extension": ".py",
   "mimetype": "text/x-python",
   "name": "python",
   "nbconvert_exporter": "python",
   "pygments_lexer": "ipython3",
   "version": "3.8.3"
  }
 },
 "nbformat": 4,
 "nbformat_minor": 2
}
