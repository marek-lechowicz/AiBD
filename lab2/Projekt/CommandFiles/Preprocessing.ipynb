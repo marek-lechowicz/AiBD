{
 "cells": [
  {
   "cell_type": "markdown",
   "metadata": {},
   "source": [
    "# 1. Loading original data"
   ]
  },
  {
   "cell_type": "code",
   "execution_count": 10,
   "metadata": {},
   "outputs": [
    {
     "name": "stdout",
     "output_type": "stream",
     "text": [
      "<class 'pandas.core.frame.DataFrame'>\n",
      "RangeIndex: 1013 entries, 0 to 1012\n",
      "Data columns (total 11 columns):\n",
      " #   Column                                                                                                                                                Non-Null Count  Dtype \n",
      "---  ------                                                                                                                                                --------------  ----- \n",
      " 0   In general, how worried are you about earthquakes?                                                                                                    1013 non-null   object\n",
      " 1   How worried are you about the Big One, a massive, catastrophic earthquake?                                                                            1013 non-null   object\n",
      " 2   Do you think the \"Big One\" will occur in your lifetime?                                                                                               1013 non-null   object\n",
      " 3   Have you ever experienced an earthquake?                                                                                                              1006 non-null   object\n",
      " 4   Have you or anyone in your household taken any precautions for an earthquake (packed an earthquake survival kit, prepared an evacuation plan, etc.)?  1006 non-null   object\n",
      " 5   How familiar are you with the San Andreas Fault line?                                                                                                 1001 non-null   object\n",
      " 6   How familiar are you with the Yellowstone Supervolcano?                                                                                               1001 non-null   object\n",
      " 7   Age                                                                                                                                                   1001 non-null   object\n",
      " 8   What is your gender?                                                                                                                                  1001 non-null   object\n",
      " 9   How much total combined money did all members of your HOUSEHOLD earn last year?                                                                       1001 non-null   object\n",
      " 10  US Region                                                                                                                                             978 non-null    object\n",
      "dtypes: object(11)\n",
      "memory usage: 87.2+ KB\n"
     ]
    }
   ],
   "source": [
    "import pandas as pd\n",
    "\n",
    "df = pd.read_csv('../OriginalData/earthquake_data.csv')\n",
    "df.head()\n",
    "df.info()"
   ]
  },
  {
   "cell_type": "markdown",
   "metadata": {},
   "source": [
    "# 2. Shorten columns' names\n",
    "\n",
    "because original column names are probably the exact text of questions in questionnaire they are impractical to use in further analysis and need to be changed."
   ]
  },
  {
   "cell_type": "code",
   "execution_count": 11,
   "metadata": {},
   "outputs": [
    {
     "data": {
      "text/html": [
       "<div>\n",
       "<style scoped>\n",
       "    .dataframe tbody tr th:only-of-type {\n",
       "        vertical-align: middle;\n",
       "    }\n",
       "\n",
       "    .dataframe tbody tr th {\n",
       "        vertical-align: top;\n",
       "    }\n",
       "\n",
       "    .dataframe thead th {\n",
       "        text-align: right;\n",
       "    }\n",
       "</style>\n",
       "<table border=\"1\" class=\"dataframe\">\n",
       "  <thead>\n",
       "    <tr style=\"text-align: right;\">\n",
       "      <th></th>\n",
       "      <th>General fear level</th>\n",
       "      <th>Big One fear level</th>\n",
       "      <th>Big One expected</th>\n",
       "      <th>Earthquake experience</th>\n",
       "      <th>Prepered</th>\n",
       "      <th>Familiarity with SAF</th>\n",
       "      <th>Familiarity with YS</th>\n",
       "      <th>Age</th>\n",
       "      <th>Gender</th>\n",
       "      <th>Earnings</th>\n",
       "      <th>US Region</th>\n",
       "    </tr>\n",
       "  </thead>\n",
       "  <tbody>\n",
       "    <tr>\n",
       "      <th>count</th>\n",
       "      <td>1013</td>\n",
       "      <td>1013</td>\n",
       "      <td>1013</td>\n",
       "      <td>1006</td>\n",
       "      <td>1006</td>\n",
       "      <td>1001</td>\n",
       "      <td>1001</td>\n",
       "      <td>1001</td>\n",
       "      <td>1001</td>\n",
       "      <td>1001</td>\n",
       "      <td>978</td>\n",
       "    </tr>\n",
       "    <tr>\n",
       "      <th>unique</th>\n",
       "      <td>5</td>\n",
       "      <td>5</td>\n",
       "      <td>2</td>\n",
       "      <td>3</td>\n",
       "      <td>2</td>\n",
       "      <td>5</td>\n",
       "      <td>5</td>\n",
       "      <td>4</td>\n",
       "      <td>2</td>\n",
       "      <td>11</td>\n",
       "      <td>9</td>\n",
       "    </tr>\n",
       "    <tr>\n",
       "      <th>top</th>\n",
       "      <td>Not at all worried</td>\n",
       "      <td>Not at all worried</td>\n",
       "      <td>No</td>\n",
       "      <td>Yes, one or more minor ones</td>\n",
       "      <td>No</td>\n",
       "      <td>Somewhat familiar</td>\n",
       "      <td>Somewhat familiar</td>\n",
       "      <td>45 - 59</td>\n",
       "      <td>Female</td>\n",
       "      <td>$50,000 to $74,999</td>\n",
       "      <td>Pacific</td>\n",
       "    </tr>\n",
       "    <tr>\n",
       "      <th>freq</th>\n",
       "      <td>356</td>\n",
       "      <td>334</td>\n",
       "      <td>577</td>\n",
       "      <td>483</td>\n",
       "      <td>788</td>\n",
       "      <td>397</td>\n",
       "      <td>280</td>\n",
       "      <td>275</td>\n",
       "      <td>521</td>\n",
       "      <td>175</td>\n",
       "      <td>206</td>\n",
       "    </tr>\n",
       "  </tbody>\n",
       "</table>\n",
       "</div>"
      ],
      "text/plain": [
       "        General fear level  Big One fear level Big One expected  \\\n",
       "count                 1013                1013             1013   \n",
       "unique                   5                   5                2   \n",
       "top     Not at all worried  Not at all worried               No   \n",
       "freq                   356                 334              577   \n",
       "\n",
       "              Earthquake experience Prepered Familiarity with SAF  \\\n",
       "count                          1006     1006                 1001   \n",
       "unique                            3        2                    5   \n",
       "top     Yes, one or more minor ones       No    Somewhat familiar   \n",
       "freq                            483      788                  397   \n",
       "\n",
       "       Familiarity with YS      Age  Gender            Earnings US Region  \n",
       "count                 1001     1001    1001                1001       978  \n",
       "unique                   5        4       2                  11         9  \n",
       "top      Somewhat familiar  45 - 59  Female  $50,000 to $74,999   Pacific  \n",
       "freq                   280      275     521                 175       206  "
      ]
     },
     "execution_count": 11,
     "metadata": {},
     "output_type": "execute_result"
    }
   ],
   "source": [
    "df.rename(columns={\"In general, how worried are you about earthquakes?\": \"General fear level\", \n",
    "                  \"How worried are you about the Big One, a massive, catastrophic earthquake?\": \"Big One fear level\", \n",
    "                  'Do you think the \"Big One\" will occur in your lifetime?': \"Big One expected\", \n",
    "                  \"Have you ever experienced an earthquake?\": \"Earthquake experience\",\n",
    "                  \"Have you or anyone in your household taken any precautions for an earthquake (packed an earthquake survival kit, prepared an evacuation plan, etc.)?\": \"Prepered\", \n",
    "                  \"How familiar are you with the San Andreas Fault line?\": \"Familiarity with SAF\", \n",
    "                  \"How familiar are you with the Yellowstone Supervolcano?\": \"Familiarity with YS\", \n",
    "                  \"What is your gender?\": \"Gender\", \n",
    "                  \"How much total combined money did all members of your HOUSEHOLD earn last year?\": \"Earnings\"}, inplace=True)\n",
    "\n",
    "df.describe(include='all')"
   ]
  },
  {
   "cell_type": "markdown",
   "metadata": {},
   "source": [
    "# 3. For analysis data create table that includes age, gender and answer to the question: \"Do you think the \"Big One\" will occur in your lifetime?\" "
   ]
  },
  {
   "cell_type": "code",
   "execution_count": 12,
   "metadata": {},
   "outputs": [],
   "source": [
    "analysis_data = df[['Age', 'Gender', 'Big One expected']]"
   ]
  },
  {
   "cell_type": "markdown",
   "metadata": {},
   "source": [
    "# 4. Save results to .csv files"
   ]
  },
  {
   "cell_type": "code",
   "execution_count": 14,
   "metadata": {},
   "outputs": [],
   "source": [
    "analysis_data.to_csv('../AnalysisData/analysis_data.csv', index=False)"
   ]
  }
 ],
 "metadata": {
  "celltoolbar": "Slideshow",
  "interpreter": {
   "hash": "650fa4d04bac046c9ebccc169d54002cca466a1d91fbaf8b4ef9a57148f4b4a2"
  },
  "kernelspec": {
   "display_name": "Python 3.8.3 64-bit ('base': conda)",
   "name": "python3"
  },
  "language_info": {
   "codemirror_mode": {
    "name": "ipython",
    "version": 3
   },
   "file_extension": ".py",
   "mimetype": "text/x-python",
   "name": "python",
   "nbconvert_exporter": "python",
   "pygments_lexer": "ipython3",
   "version": "3.8.3"
  }
 },
 "nbformat": 4,
 "nbformat_minor": 2
}
