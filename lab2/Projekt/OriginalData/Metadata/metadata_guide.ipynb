{
 "cells": [
  {
   "cell_type": "markdown",
   "metadata": {},
   "source": [
    "# Metadata Guide\n",
    "\n",
    "# 1. Data in earthquake_data.cvs\n",
    "\n",
    "### Data in this file consist of ansewrs from respondents of SURVEYMONKEY AUDIENCE. The survey was conducted as backgroud for the story - [The Rock Isn’t Alone: Lots Of People Are Worried About ‘The Big One’](https://fivethirtyeight.com/features/the-rock-isnt-alone-lots-of-people-are-worried-about-the-big-one/). \n",
    "### Data consist of following variables:\n",
    "\n",
    "Header | Definition\n",
    "---|---------\n",
    "`In general, how worried are you about earthquakes?` | Not at all worried, not so worried, somewhat worried, very worried, extremely worried\n",
    "`How worried are you about the “Big One,” a massive, catastrophic earthquake?` | Not at all worried, not so worried, somewhat worried, very worried, extremely worried\n",
    "`Do you think the \"Big One\" will occur in your lifetime?` | Yes, No\n",
    "`Have you ever experienced an earthquake?` | Yes, one or more minor ones; Yes, one or more major ones; No\n",
    "`Have you or anyone in your household taken any precautions for an earthquake (packed an earthquake survival kit, prepared an evacuation plan, etc.)?` | Yes, No\n",
    "`How familiar are you with the San Andreas Fault line?` | Not at all familiar, not so familiar, somewhat familiar, very familiar, extremely familiar\n",
    "`How familiar are you with the Yellowstone Supervolcano?` | Not at all familiar, not so familiar, somewhat familiar, very familiar, extremely familiar\n",
    "`Age` | 18-29, 30-44, 45-59, 60+\n",
    "`What is your gender?` | Male, Female\n",
    "`How much total combined money did all members of your HOUSEHOLD earn last year?` | 1$0 to $9,999; $10,000 to $24,999; $25,000 to $49,999; $50,000 to $74,999; $75,000 to $99,999; $100,000 to $124,999; $125,000 to $149,999; $150,000 to $174,999; $175,000 to $199,999; $200,000 and up; Prefer not to answer\n",
    "`US Region` | East North Central, East South Central, Middle Atlantic, Mountain, New England, Pacific, South Atlantic, West North Central, West South Central\n",
    "\n",
    "### Original file was downnloaded from [this repository](https://github.com/fivethirtyeight/data/tree/master/san-andreas) on 10.10.2021r.\n"
   ]
  }
 ],
 "metadata": {
  "language_info": {
   "name": "python"
  },
  "orig_nbformat": 4
 },
 "nbformat": 4,
 "nbformat_minor": 2
}
